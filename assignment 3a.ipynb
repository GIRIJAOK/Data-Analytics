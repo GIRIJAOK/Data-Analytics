{
 "cells": [
  {
   "cell_type": "markdown",
   "id": "af0a35fb",
   "metadata": {},
   "source": [
    "# Assignment 3"
   ]
  },
  {
   "cell_type": "markdown",
   "id": "9621bbbd",
   "metadata": {},
   "source": [
    "Qstn 1 : How and when to use the AutoSum command in excel?\n",
    "\n",
    "\n",
    "Answer :\n",
    "\n",
    "If you need to sum a column or row of numbers ,select a cell next to the numbers you want to sum, click AutoSum on the Home tab, press Enter,and you're done. "
   ]
  },
  {
   "cell_type": "markdown",
   "id": "df7eb945",
   "metadata": {},
   "source": [
    "Qstn 2 : What is the shortcut key to perform AutoSum?\n",
    "\n",
    "\n",
    "Answer :\n",
    "\n",
    "ALT + the = sign"
   ]
  },
  {
   "cell_type": "markdown",
   "id": "f34481ba",
   "metadata": {},
   "source": [
    "Qstn 3: How do you get rid of Formula that omits adjacent cells?\n",
    "\n",
    "Answer : \n",
    "\n",
    "One way is to ignore the error, by right clicking the part where error obtained.\n",
    "\n",
    "Other way is to uncheck the formulae that omits cells in a region."
   ]
  },
  {
   "cell_type": "markdown",
   "id": "e5f0d868",
   "metadata": {},
   "source": [
    "Qstn 4 : How do you select non-adjacent cells in Excel 2016?\n",
    "\n",
    "\n",
    "Answer:\n",
    "\n",
    "By Holding 'Shift'+ \"up Arrow\" - we can select and move upwards\n",
    "\n",
    "By Holding 'Shift'+\"Down Arrow\" - we can select and move downwards"
   ]
  },
  {
   "cell_type": "markdown",
   "id": "a4f5c5eb",
   "metadata": {},
   "source": [
    "Qstn 5 : What happens if you choose a column, hold down the Alt key and press the letters ocw in quick succession?\n",
    "\n",
    "\n",
    "Answer :\n",
    "\n",
    "Alt + OCW : Changes column width\n",
    "    "
   ]
  },
  {
   "cell_type": "markdown",
   "id": "6b9dc5ec",
   "metadata": {},
   "source": [
    "Qstn 6 : If you right-click on a row reference number and click on Insert, where will the row be added?\n",
    "\n",
    "\n",
    "Answer :\n",
    "\n",
    "It provides with Inserting cell of rows or columns wherever we want."
   ]
  }
 ],
 "metadata": {
  "kernelspec": {
   "display_name": "Python 3",
   "language": "python",
   "name": "python3"
  },
  "language_info": {
   "codemirror_mode": {
    "name": "ipython",
    "version": 3
   },
   "file_extension": ".py",
   "mimetype": "text/x-python",
   "name": "python",
   "nbconvert_exporter": "python",
   "pygments_lexer": "ipython3",
   "version": "3.8.8"
  }
 },
 "nbformat": 4,
 "nbformat_minor": 5
}
