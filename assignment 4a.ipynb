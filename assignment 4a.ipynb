{
 "cells": [
  {
   "cell_type": "markdown",
   "id": "73ad4238",
   "metadata": {},
   "source": [
    "# Assignment 4"
   ]
  },
  {
   "cell_type": "markdown",
   "id": "1b96ae8c",
   "metadata": {},
   "source": [
    "Qstn 1 : To use the ribbon commands, what menu and grouping of commands will you find the Insert and Delete command?\n",
    "\n",
    "\n",
    "\n",
    "\n",
    "Answer : Home -> cells"
   ]
  },
  {
   "cell_type": "markdown",
   "id": "50aab508",
   "metadata": {},
   "source": [
    "Qstn 2 : If you set a row height or column width to 0 (zero), what happens to the row and column?\n",
    "\n",
    "\n",
    "Answer : \n",
    "\n",
    "If you set row height and column width to zero ,Excel will hide the row and column."
   ]
  },
  {
   "cell_type": "markdown",
   "id": "d29ca10f",
   "metadata": {},
   "source": [
    "Qstn 3 : Is there a need to change the height and width in a cell? Why?\n",
    "\n",
    "\n",
    "\n",
    "Answer : \n",
    "\n",
    "It is necessary to change width and height in a cell in excel to fit the data.Excel by default provide equal width and height with respect to columns and rows. Whenever we enter a lengthy data, few characters will get displayed and other will be present inside the  cell but will be hidden to the user. It is necessary to change the rows and column’s height and width to have a good presentation in excel."
   ]
  },
  {
   "cell_type": "markdown",
   "id": "820feae9",
   "metadata": {},
   "source": [
    "Qstn 4: What is the keyboard shortcut to unhide rows?\n",
    "\n",
    "\n",
    "\n",
    "Answer : \n",
    "\n",
    "Ctl+9"
   ]
  },
  {
   "cell_type": "markdown",
   "id": "929fc04f",
   "metadata": {},
   "source": [
    "Qstn 5 : How to hide rows containing blank cells?\n",
    "\n",
    "\n",
    "\n",
    "Answer : \n",
    "\n",
    "method 1 : \n",
    "\n",
    "Select data columns --> Home tab --> sort & filter in the editing section and select filter option in the drop down menu.Once you click on filter,all data columns will have drop down menu.Click on the drop down button for any data column --> deslect blanks in the Filter menu and then click OK.This will hide all the blank rows in the data, without actually deleting them.\n",
    "\n",
    "Method 2 : \n",
    "\n",
    "Home tab --> Find &selectc--> Go to special. In the special menu select blanks option and the click OK.All the blank cells in the selection have been selected and then press Ctrl + 9 keys together to hide the rows which have blank cells."
   ]
  },
  {
   "cell_type": "markdown",
   "id": "8f90d159",
   "metadata": {},
   "source": [
    "Qstn 6 : What are the steps to hide the duplicate values using conditional formatting in excel?\n",
    "\n",
    "\n",
    "\n",
    "Answer : \n",
    "\n",
    "1. Start by selecting the cells you want to review for duplicates.\n",
    "\n",
    "2. Go to the Home tab and the Styles section of the ribbon. Click “Conditional Formatting,” move to “Highlight Cell Rules,” and    choose “Duplicate Values” in the pop-out menu.\n",
    "\n",
    "3. When the Duplicate Values window displays, you should immediately see your duplicates highlighted with the default formatting    applied. However, you can change this if you wish.\n",
    "\n",
    "4. Confirm that “Duplicate” displays in the first drop-down box. Then, click the second drop-down box to select a different        format. Click “OK” to apply the format to your duplicate data.\n",
    "\n",
    "5. If you prefer a format that isn’t listed, click “Custom Format” in the drop-down box to pick a font, border, or fill style in    the subsequent pop-up window. Click “OK.”\n",
    "\n",
    "6. You’ll see the Custom Format applied to the cell immediately. If you like it, click “OK” to apply it.\n",
    "\n",
    "Once you have your duplicate data highlighted using conditional formatting, you can make the corrections or adjustments you need to. And once you do, the formatting will disappear as long as it’s not duplicated elsewhere in your cell selection."
   ]
  }
 ],
 "metadata": {
  "kernelspec": {
   "display_name": "Python 3",
   "language": "python",
   "name": "python3"
  },
  "language_info": {
   "codemirror_mode": {
    "name": "ipython",
    "version": 3
   },
   "file_extension": ".py",
   "mimetype": "text/x-python",
   "name": "python",
   "nbconvert_exporter": "python",
   "pygments_lexer": "ipython3",
   "version": "3.8.8"
  }
 },
 "nbformat": 4,
 "nbformat_minor": 5
}
