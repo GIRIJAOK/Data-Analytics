{
 "cells": [
  {
   "cell_type": "markdown",
   "id": "12e27b88",
   "metadata": {},
   "source": [
    "# Assignment 2"
   ]
  },
  {
   "cell_type": "markdown",
   "id": "c4fb4404",
   "metadata": {},
   "source": [
    "Qstn 1 : What does the dollar($) sign do?\n",
    "\n",
    "\n",
    "\n",
    "Answer : \n",
    "\n",
    "In Excel, a dollar sign can denote a currency format, but it has another common use: indicating absolute cell references in formulas"
   ]
  },
  {
   "cell_type": "markdown",
   "id": "4bdb33ae",
   "metadata": {},
   "source": [
    "Qstn 2 : How to Change the Reference from Relative to Absolute (or Mixed)?\n",
    "\n",
    "\n",
    "Answer : \n",
    "\n",
    "1. Select the cell that contains the formula.\n",
    "\n",
    "2. In the formula bar Button , select the reference that you want to change.\n",
    "\n",
    "3. Press F4 to switch between the reference types.\n",
    "\n",
    "An absolute reference is designated in a formula by the addition of a dollar sign ($) before the column and row. If it precedes the column or row (but not both), it's known as a mixed reference."
   ]
  },
  {
   "cell_type": "markdown",
   "id": "f713cca2",
   "metadata": {},
   "source": [
    "Qstn 3 : Explain the order of operations in excel?\n",
    "\n",
    "\n",
    "Answer : \n",
    "\n",
    "In general, Excel's order of operation follows the acronym PEMDAS (Parentheses, Exponents, Multiplication, Division, Addition, Subtraction) but with some customization to handle the formula syntax in a spreadsheet."
   ]
  },
  {
   "cell_type": "markdown",
   "id": "196f055c",
   "metadata": {},
   "source": [
    "Qstn 4 : What, according to you, are the top 5 functions in excel and write a basic syntax for any of two?\n",
    "\n",
    "\n",
    "\n",
    "Answer : \n",
    "\n",
    "SUM function ,TEXT function, CONCATENATE function,Pivot Tables,VLookup Formula"
   ]
  },
  {
   "cell_type": "markdown",
   "id": "6fd45496",
   "metadata": {},
   "source": [
    "Qstn 5 : When would you use the subtotal function?\n",
    "\n",
    "\n",
    "\n",
    "Answer :\n",
    "\n",
    "The SUBTOTAL function is used when you display a Total row in an Excel Table."
   ]
  },
  {
   "cell_type": "markdown",
   "id": "fb4780a2",
   "metadata": {},
   "source": [
    "Qstn 6 : What is the syntax of the vlookup function? Explain the terms in it?\n",
    "\n",
    "\n",
    "Answer:\n",
    "\n",
    "=VLOOKUP(lookup_value, table_array, col_index_num, [range_lookup])\n",
    "\n"
   ]
  }
 ],
 "metadata": {
  "kernelspec": {
   "display_name": "Python 3",
   "language": "python",
   "name": "python3"
  },
  "language_info": {
   "codemirror_mode": {
    "name": "ipython",
    "version": 3
   },
   "file_extension": ".py",
   "mimetype": "text/x-python",
   "name": "python",
   "nbconvert_exporter": "python",
   "pygments_lexer": "ipython3",
   "version": "3.8.8"
  }
 },
 "nbformat": 4,
 "nbformat_minor": 5
}
