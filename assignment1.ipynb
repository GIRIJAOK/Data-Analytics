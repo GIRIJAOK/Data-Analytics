{
 "cells": [
  {
   "cell_type": "markdown",
   "id": "bbef2a99",
   "metadata": {},
   "source": [
    "# Assignment 1"
   ]
  },
  {
   "cell_type": "markdown",
   "id": "f8ab2fd1",
   "metadata": {},
   "source": [
    "Qstn 1 : What do you mean by cells in an excel sheet?\n",
    "\n",
    "\n",
    "Answer :  \n",
    "\n",
    "A cell is a rectangular area formed by the intersection of a column and a row.Each cell in Excel has a unique address made up of its column letter and row number. \n",
    "For example, the address of the first cell is A1."
   ]
  },
  {
   "cell_type": "markdown",
   "id": "d7657afc",
   "metadata": {},
   "source": [
    "Qstn 2 : How can you restrict someone from copying a cell from your worksheet?\n",
    "\n",
    "\n",
    "\n",
    "Answer : \n",
    "\n",
    "Yes,it is possible. By default, when you protect a worksheet, all the cells on the worksheet are locked, and users cannot make any changes to a locked cell."
   ]
  },
  {
   "cell_type": "markdown",
   "id": "4eb7b38f",
   "metadata": {},
   "source": [
    "Qstn 3 : How to move or copy the worksheet into another workbook?\n",
    "\n",
    "\n",
    "\n",
    "Answer : \n",
    "\n",
    "1. Right click on the tab that you want to copy, and then click Move or Copy…\n",
    "2. In the Move or Copy dialog box, do the following:\n",
    "\n",
    "    - Under To book, choose the target file. To place a copy into a new workbook, select (new book).\n",
    "    - Under Before sheet, specify where to put the copy.\n",
    "    - Select the Create a copy box.\n",
    "    - Click OK."
   ]
  },
  {
   "cell_type": "markdown",
   "id": "acee2564",
   "metadata": {},
   "source": [
    "Qstn 4 :Which key is used as a shortcut for opening a new window document?\n",
    "\n",
    "\n",
    "\n",
    "Answer : \n",
    "\n",
    "Ctrl+N"
   ]
  },
  {
   "cell_type": "markdown",
   "id": "71236e9b",
   "metadata": {},
   "source": [
    "Qstn 5 : What are the things that we can notice after opening the Excel interface?\n",
    "\n",
    "\n",
    "Answer : \n",
    "\n",
    "The Excel Starter startup screen appears, and a blank spreadsheet is displayed. In Excel Starter, a spreadsheet is called a worksheet, and worksheets are stored in a file called a workbook"
   ]
  },
  {
   "cell_type": "markdown",
   "id": "82d6ceb1",
   "metadata": {},
   "source": [
    "Qstn 6 : When to use a relative cell reference in excel?\n",
    "\n",
    "\n",
    "Answer : \n",
    "\n",
    "Relative cell references are basic cell references that adjust and change when copied or when using AutoFill.This is the most widely used type of cell reference in formulas.eg: =SUM(B5:B8), as shown below, changes to =SUM(C5:C8) when copied across to the next cell."
   ]
  }
 ],
 "metadata": {
  "kernelspec": {
   "display_name": "Python 3",
   "language": "python",
   "name": "python3"
  },
  "language_info": {
   "codemirror_mode": {
    "name": "ipython",
    "version": 3
   },
   "file_extension": ".py",
   "mimetype": "text/x-python",
   "name": "python",
   "nbconvert_exporter": "python",
   "pygments_lexer": "ipython3",
   "version": "3.8.8"
  }
 },
 "nbformat": 4,
 "nbformat_minor": 5
}
