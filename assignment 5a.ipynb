{
 "cells": [
  {
   "cell_type": "markdown",
   "id": "84014229",
   "metadata": {},
   "source": [
    "# Assignment 5"
   ]
  },
  {
   "cell_type": "markdown",
   "id": "e081f4ad",
   "metadata": {},
   "source": [
    "Qstn 1 : How many types of conditions are available in conditional formatting on Excel?\n",
    "\n",
    "\n",
    "Answer : \n",
    "\n",
    "1. Highlight cells rule\n",
    "\n",
    "2. Top/Bottom rules\n",
    "\n",
    "3. Data Bars\n",
    "\n",
    "4. Color Scales \n",
    "\n",
    "5. Icon sets\n",
    "\n"
   ]
  },
  {
   "cell_type": "markdown",
   "id": "28539832",
   "metadata": {},
   "source": [
    "Qstn 2 : How to insert border in Excel with Format Cells dialog?\n",
    "\n",
    "\n",
    "\n",
    "Answer : \n",
    "\n",
    "The Format Cells dialog is the most effective method of adding borders in Excel. It gives you easy access to all the settings including the line color and thickness as well as a nice diagram preview.\n",
    "\n",
    "1. Select one or more cells to which you'd like to add borders.\n",
    "\n",
    "2. Open the Format Cells dialog box by doing one of the following:\n",
    "      . Click the down arrow next to the Borders button, and then click More Borders at the bottom of the drop-down list.\n",
    "      . Right click the selected cells and choose Format Cells… from the context menu.\n",
    "      . Press Ctrl+1 shortcut.\n",
    "      \n",
    "3. In the Format Cells dialog box, switch to the Border tab and choose the line style and color first. And then, either use        Presets to add the outside or inside borders or construct the desired border by selecting individual elements such as border    top, bottom, right or left. The preview diagram will reflect the changes immediately.\n",
    "\n",
    "4. When done, click OK.      "
   ]
  },
  {
   "cell_type": "markdown",
   "id": "c764e338",
   "metadata": {},
   "source": [
    "Qstn 3 : How to Format Numbers as Currency in Excel?\n",
    "\n",
    "\n",
    "Answer : \n",
    "\n",
    "1. Select the cells that you want to format and then, in the Number group on the Home tab, click the down arrow in the Number Format box.\n",
    "\n",
    "2. Choose either Currency or Accounting."
   ]
  },
  {
   "cell_type": "markdown",
   "id": "7ccd1c99",
   "metadata": {},
   "source": [
    "Qstn 4 : What are the steps to format numbers in Excel with the Percent style?\n",
    "\n",
    "\n",
    "Answer :\n",
    "\n",
    "To apply the percentage number format to a number, first select the number(s), then use any of these methods:\n",
    "\n",
    "1. Use the keyboard shortcut Control + Shift + Enter\n",
    "\n",
    "2. Select \"Percentage\" from the dropdown on the home tab of the ribbon\n",
    "\n",
    "3. Click the % button in the Number section on the home tab of the ribbon\n",
    "\n",
    "4. Control + 1 > Number > Percentage"
   ]
  },
  {
   "cell_type": "markdown",
   "id": "1ab6aa5a",
   "metadata": {},
   "source": [
    "Qstn 5 : What is a shortcut to merge two or more cells in excel?\n",
    "    \n",
    "    \n",
    "Answer :\n",
    "\n",
    "Excel Shortcuts for Windows'\n",
    "\n",
    "1. Merge Cells: ALT H+M+M\n",
    "2. Merge & Center: ALT H+M+C\n",
    "3. Merge Across: ALT H+M+A\n"
   ]
  },
  {
   "cell_type": "markdown",
   "id": "9a5ecef1",
   "metadata": {},
   "source": [
    "Qstn 6 : How do you use text commands in Excel?\n",
    "\n",
    "\n",
    "\n",
    "Answer : \n",
    "\n",
    "Select the column, or range where you'll be putting the values, then use CTRL+1 to bring up the Format > Cells dialog and on the Number tab select Text. "
   ]
  }
 ],
 "metadata": {
  "kernelspec": {
   "display_name": "Python 3",
   "language": "python",
   "name": "python3"
  },
  "language_info": {
   "codemirror_mode": {
    "name": "ipython",
    "version": 3
   },
   "file_extension": ".py",
   "mimetype": "text/x-python",
   "name": "python",
   "nbconvert_exporter": "python",
   "pygments_lexer": "ipython3",
   "version": "3.8.8"
  }
 },
 "nbformat": 4,
 "nbformat_minor": 5
}
